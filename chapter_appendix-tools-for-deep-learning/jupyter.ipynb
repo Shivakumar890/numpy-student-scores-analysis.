{
  "cells": [
    {
      "cell_type": "markdown",
      "metadata": {
        "id": "view-in-github",
        "colab_type": "text"
      },
      "source": [
        "<a href=\"https://colab.research.google.com/github/Shivakumar890/numpy-student-scores-analysis./blob/main/chapter_appendix-tools-for-deep-learning/jupyter.ipynb\" target=\"_parent\"><img src=\"https://colab.research.google.com/assets/colab-badge.svg\" alt=\"Open In Colab\"/></a>"
      ]
    },
    {
      "cell_type": "markdown",
      "id": "31d9a4c9",
      "metadata": {
        "origin_pos": 0,
        "id": "31d9a4c9"
      },
      "source": [
        "# Using Jupyter Notebooks\n",
        ":label:`sec_jupyter`\n",
        "\n",
        "\n",
        "This section describes how to edit and run the code\n",
        "in each section of this book\n",
        "using the Jupyter Notebook. Make sure you have\n",
        "installed Jupyter and downloaded the\n",
        "code as described in\n",
        ":ref:`chap_installation`.\n",
        "If you want to know more about Jupyter see the excellent tutorial in\n",
        "their [documentation](https://jupyter.readthedocs.io/en/latest/).\n",
        "\n",
        "\n",
        "## Editing and Running the Code Locally\n",
        "\n",
        "Suppose that the local path of the book's code is `xx/yy/d2l-en/`. Use the shell to change the directory to this path (`cd xx/yy/d2l-en`) and run the command `jupyter notebook`. If your browser does not do this automatically, open http://localhost:8888 and you will see the interface of Jupyter and all the folders containing the code of the book, as shown in :numref:`fig_jupyter00`.\n",
        "\n",
        "![The folders containing the code of this book.](https://github.com/d2l-ai/d2l-en-colab/blob/master/img/jupyter00.png?raw=1)\n",
        ":width:`600px`\n",
        ":label:`fig_jupyter00`\n",
        "\n",
        "\n",
        "You can access the notebook files by clicking on the folder displayed on the webpage.\n",
        "They usually have the suffix \".ipynb\".\n",
        "For the sake of brevity, we create a temporary \"test.ipynb\" file.\n",
        "The content displayed after you click it is\n",
        "shown in :numref:`fig_jupyter01`.\n",
        "This notebook includes a markdown cell and a code cell. The content in the markdown cell includes \"This Is a Title\" and \"This is text.\".\n",
        "The code cell contains two lines of Python code.\n",
        "\n",
        "![Markdown and code cells in the \"text.ipynb\" file.](https://github.com/d2l-ai/d2l-en-colab/blob/master/img/jupyter01.png?raw=1)\n",
        ":width:`600px`\n",
        ":label:`fig_jupyter01`\n",
        "\n",
        "\n",
        "Double click on the markdown cell to enter edit mode.\n",
        "Add a new text string \"Hello world.\" at the end of the cell, as shown in :numref:`fig_jupyter02`.\n",
        "\n",
        "![Edit the markdown cell.](https://github.com/d2l-ai/d2l-en-colab/blob/master/img/jupyter02.png?raw=1)\n",
        ":width:`600px`\n",
        ":label:`fig_jupyter02`\n",
        "\n",
        "\n",
        "As demonstrated in :numref:`fig_jupyter03`,\n",
        "click \"Cell\" $\\rightarrow$ \"Run Cells\" in the menu bar to run the edited cell.\n",
        "\n",
        "![Run the cell.](https://github.com/d2l-ai/d2l-en-colab/blob/master/img/jupyter03.png?raw=1)\n",
        ":width:`600px`\n",
        ":label:`fig_jupyter03`\n",
        "\n",
        "After running, the markdown cell is shown in :numref:`fig_jupyter04`.\n",
        "\n",
        "![The markdown cell after running.](https://github.com/d2l-ai/d2l-en-colab/blob/master/img/jupyter04.png?raw=1)\n",
        ":width:`600px`\n",
        ":label:`fig_jupyter04`\n",
        "\n",
        "\n",
        "Next, click on the code cell. Multiply the elements by 2 after the last line of code, as shown in :numref:`fig_jupyter05`.\n",
        "\n",
        "![Edit the code cell.](https://github.com/d2l-ai/d2l-en-colab/blob/master/img/jupyter05.png?raw=1)\n",
        ":width:`600px`\n",
        ":label:`fig_jupyter05`\n",
        "\n",
        "\n",
        "You can also run the cell with a shortcut (\"Ctrl + Enter\" by default) and obtain the output result from :numref:`fig_jupyter06`.\n",
        "\n",
        "![Run the code cell to obtain the output.](https://github.com/d2l-ai/d2l-en-colab/blob/master/img/jupyter06.png?raw=1)\n",
        ":width:`600px`\n",
        ":label:`fig_jupyter06`\n",
        "\n",
        "\n",
        "When a notebook contains more cells, we can click \"Kernel\" $\\rightarrow$ \"Restart & Run All\" in the menu bar to run all the cells in the entire notebook. By clicking \"Help\" $\\rightarrow$ \"Edit Keyboard Shortcuts\" in the menu bar, you can edit the shortcuts according to your preferences.\n",
        "\n",
        "## Advanced Options\n",
        "\n",
        "Beyond local editing two things are quite important: editing the notebooks in the markdown format and running Jupyter remotely.\n",
        "The latter matters when we want to run the code on a faster server.\n",
        "The former matters since Jupyter's native ipynb format stores a lot of auxiliary data that is\n",
        "irrelevant to the content,\n",
        "mostly related to how and where the code is run.\n",
        "This is confusing for Git, making\n",
        "reviewing contributions very difficult.\n",
        "Fortunately there is an alternative---native editing in the markdown format.\n",
        "\n",
        "### Markdown Files in Jupyter\n",
        "\n",
        "If you wish to contribute to the content of this book, you need to modify the\n",
        "source file (md file, not ipynb file) on GitHub.\n",
        "Using the notedown plugin we\n",
        "can modify notebooks in the md format directly in Jupyter.\n",
        "\n",
        "\n",
        "First, install the notedown plugin, run the Jupyter Notebook, and load the plugin:\n",
        "\n",
        "```\n",
        "pip install d2l-notedown  # You may need to uninstall the original notedown.\n",
        "jupyter notebook --NotebookApp.contents_manager_class='notedown.NotedownContentsManager'\n",
        "```\n",
        "\n",
        "You may also turn on the notedown plugin by default whenever you run the Jupyter Notebook.\n",
        "First, generate a Jupyter Notebook configuration file (if it has already been generated, you can skip this step).\n",
        "\n",
        "```\n",
        "jupyter notebook --generate-config\n",
        "```\n",
        "\n",
        "Then, add the following line to the end of the Jupyter Notebook configuration file (for Linux or macOS, usually in the path `~/.jupyter/jupyter_notebook_config.py`):\n",
        "\n",
        "```\n",
        "c.NotebookApp.contents_manager_class = 'notedown.NotedownContentsManager'\n",
        "```\n",
        "\n",
        "After that, you only need to run the `jupyter notebook` command to turn on the notedown plugin by default.\n",
        "\n",
        "### Running Jupyter Notebooks on a Remote Server\n",
        "\n",
        "Sometimes, you may want to run Jupyter notebooks on a remote server and access it through a browser on your local computer. If Linux or macOS is installed on your local machine (Windows can also support this function through third-party software such as PuTTY), you can use port forwarding:\n",
        "\n",
        "```\n",
        "ssh myserver -L 8888:localhost:8888\n",
        "```\n",
        "\n",
        "The above string `myserver` is the address of the remote server.\n",
        "Then we can use http://localhost:8888 to access the remote server `myserver` that runs Jupyter notebooks. We will detail on how to run Jupyter notebooks on AWS instances\n",
        "later in this appendix.\n",
        "\n",
        "### Timing\n",
        "\n",
        "We can use the `ExecuteTime` plugin to time the execution of each code cell in Jupyter notebooks.\n",
        "Use the following commands to install the plugin:\n",
        "\n",
        "```\n",
        "pip install jupyter_contrib_nbextensions\n",
        "jupyter contrib nbextension install --user\n",
        "jupyter nbextension enable execute_time/ExecuteTime\n",
        "```\n",
        "\n",
        "## Summary\n",
        "\n",
        "* Using the Jupyter Notebook tool, we can edit, run, and contribute to each section of the book.\n",
        "* We can run Jupyter notebooks on remote servers using port forwarding.\n",
        "\n",
        "\n",
        "## Exercises\n",
        "\n",
        "1. Edit and run the code in this book with the Jupyter Notebook on your local machine.\n",
        "1. Edit and run the code in this book with the Jupyter Notebook *remotely* via port forwarding.\n",
        "1. Compare the running time of the operations $\\mathbf{A}^\\top \\mathbf{B}$ and $\\mathbf{A} \\mathbf{B}$ for two square matrices in $\\mathbb{R}^{1024 \\times 1024}$. Which one is faster?\n",
        "\n",
        "\n",
        "[Discussions](https://discuss.d2l.ai/t/421)\n"
      ]
    },
    {
      "cell_type": "code",
      "source": [
        "import pandas as pd\n",
        "\n",
        "# Create data\n",
        "data = {\n",
        "    \"OrderID\": [1,2,3,4,5,6,7,8,9,10,\n",
        "                11,12,13,14,15,16,17,18,19,20],\n",
        "    \"Date\": [\"2025-01-01\",\"2025-01-02\",\"2025-01-03\",\"2025-01-04\",\"2025-01-05\",\n",
        "             \"2025-01-06\",\"2025-01-07\",\"2025-01-08\",\"2025-01-09\",\"2025-01-10\",\n",
        "             \"2025-01-11\",\"2025-01-12\",\"2025-01-13\",\"2025-01-14\",\"2025-01-15\",\n",
        "             \"2025-01-16\",\"2025-01-17\",\"2025-01-18\",\"2025-01-19\",\"2025-01-20\"],\n",
        "    \"Product\": [\"Laptop\",\"Phone\",\"Shoes\",\"TV\",\"Shirt\",\n",
        "                \"Watch\",\"Headphone\",\"Laptop\",\"Phone\",\"Shirt\",\n",
        "                \"Shoes\",\"Watch\",\"TV\",\"Headphone\",\"Laptop\",\n",
        "                \"Phone\",\"Shoes\",\"Shirt\",\"Watch\",\"Headphone\"],\n",
        "    \"Category\": [\"Electronics\",\"Electronics\",\"Fashion\",\"Electronics\",\"Fashion\",\n",
        "                 \"Fashion\",\"Electronics\",\"Electronics\",\"Electronics\",\"Fashion\",\n",
        "                 \"Fashion\",\"Fashion\",\"Electronics\",\"Electronics\",\"Electronics\",\n",
        "                 \"Electronics\",\"Fashion\",\"Fashion\",\"Fashion\",\"Electronics\"],\n",
        "    \"Quantity\": [2,5,10,1,6,3,4,1,3,8,5,2,2,6,3,4,12,7,4,5],\n",
        "    \"Price\": [50000,20000,2000,40000,1500,5000,3000,50000,20000,1500,\n",
        "              2000,5000,40000,3000,50000,20000,2000,1500,5000,3000],\n",
        "    \"Total\": [100000,100000,20000,40000,9000,15000,12000,50000,60000,12000,\n",
        "              10000,10000,80000,18000,150000,80000,24000,10500,20000,15000],\n",
        "    \"Region\": [\"North\",\"South\",\"East\",\"West\",\"North\",\"South\",\"East\",\"West\",\n",
        "               \"North\",\"South\",\"West\",\"East\",\"North\",\"South\",\"East\",\"West\",\n",
        "               \"North\",\"East\",\"West\",\"North\"]\n",
        "}\n",
        "\n",
        "# Convert to DataFrame\n",
        "df = pd.DataFrame(data)\n",
        "\n",
        "# Save as CSV\n",
        "df.to_csv(\"sales.csv\", index=False)\n",
        "\n",
        "print(\"✅ sales.csv file created successfully!\")\n"
      ],
      "metadata": {
        "colab": {
          "base_uri": "https://localhost:8080/"
        },
        "id": "bm4qmLxgCftm",
        "outputId": "02bd4908-e42f-45e3-9c2b-1aa8b18e46ac"
      },
      "id": "bm4qmLxgCftm",
      "execution_count": 4,
      "outputs": [
        {
          "output_type": "stream",
          "name": "stdout",
          "text": [
            "✅ sales.csv file created successfully!\n"
          ]
        }
      ]
    },
    {
      "cell_type": "code",
      "source": [
        "import pandas as pd\n",
        "df = pd.read_csv(\"sales.csv\")\n",
        "print(df)"
      ],
      "metadata": {
        "colab": {
          "base_uri": "https://localhost:8080/"
        },
        "id": "MnxoL42sCm4S",
        "outputId": "f24f3928-1fbd-4113-ca3e-4e3cabbaf08d"
      },
      "id": "MnxoL42sCm4S",
      "execution_count": 5,
      "outputs": [
        {
          "output_type": "stream",
          "name": "stdout",
          "text": [
            "    OrderID        Date    Product     Category  Quantity  Price   Total  \\\n",
            "0         1  2025-01-01     Laptop  Electronics         2  50000  100000   \n",
            "1         2  2025-01-02      Phone  Electronics         5  20000  100000   \n",
            "2         3  2025-01-03      Shoes      Fashion        10   2000   20000   \n",
            "3         4  2025-01-04         TV  Electronics         1  40000   40000   \n",
            "4         5  2025-01-05      Shirt      Fashion         6   1500    9000   \n",
            "5         6  2025-01-06      Watch      Fashion         3   5000   15000   \n",
            "6         7  2025-01-07  Headphone  Electronics         4   3000   12000   \n",
            "7         8  2025-01-08     Laptop  Electronics         1  50000   50000   \n",
            "8         9  2025-01-09      Phone  Electronics         3  20000   60000   \n",
            "9        10  2025-01-10      Shirt      Fashion         8   1500   12000   \n",
            "10       11  2025-01-11      Shoes      Fashion         5   2000   10000   \n",
            "11       12  2025-01-12      Watch      Fashion         2   5000   10000   \n",
            "12       13  2025-01-13         TV  Electronics         2  40000   80000   \n",
            "13       14  2025-01-14  Headphone  Electronics         6   3000   18000   \n",
            "14       15  2025-01-15     Laptop  Electronics         3  50000  150000   \n",
            "15       16  2025-01-16      Phone  Electronics         4  20000   80000   \n",
            "16       17  2025-01-17      Shoes      Fashion        12   2000   24000   \n",
            "17       18  2025-01-18      Shirt      Fashion         7   1500   10500   \n",
            "18       19  2025-01-19      Watch      Fashion         4   5000   20000   \n",
            "19       20  2025-01-20  Headphone  Electronics         5   3000   15000   \n",
            "\n",
            "   Region  \n",
            "0   North  \n",
            "1   South  \n",
            "2    East  \n",
            "3    West  \n",
            "4   North  \n",
            "5   South  \n",
            "6    East  \n",
            "7    West  \n",
            "8   North  \n",
            "9   South  \n",
            "10   West  \n",
            "11   East  \n",
            "12  North  \n",
            "13  South  \n",
            "14   East  \n",
            "15   West  \n",
            "16  North  \n",
            "17   East  \n",
            "18   West  \n",
            "19  North  \n"
          ]
        }
      ]
    },
    {
      "cell_type": "code",
      "source": [
        "print(df.head())"
      ],
      "metadata": {
        "id": "wdFo4qGvksxL"
      },
      "id": "wdFo4qGvksxL",
      "execution_count": null,
      "outputs": []
    },
    {
      "cell_type": "code",
      "source": [
        "total_sales = df['Total'].sum()\n",
        "print(\"Total sales of products :\",total_sales)"
      ],
      "metadata": {
        "colab": {
          "base_uri": "https://localhost:8080/"
        },
        "id": "qypBGnrJk1vG",
        "outputId": "bd821130-ce7f-4485-86b6-17b5c8fcba71"
      },
      "id": "qypBGnrJk1vG",
      "execution_count": 6,
      "outputs": [
        {
          "output_type": "stream",
          "name": "stdout",
          "text": [
            "Total sales of products : 835500\n"
          ]
        }
      ]
    },
    {
      "cell_type": "code",
      "source": [
        "result = df.groupby('Region')['Total'].sum()\n",
        "print(result)"
      ],
      "metadata": {
        "id": "79_EIbvtmu3W"
      },
      "id": "79_EIbvtmu3W",
      "execution_count": null,
      "outputs": []
    },
    {
      "cell_type": "code",
      "source": [
        "result = df.groupby('Product')['Total'].sum()\n",
        "a=result.idxmax()\n",
        "b=result.max()\n",
        "print(\"Best selling product is:\",a,\"total amount is\",b)"
      ],
      "metadata": {
        "colab": {
          "base_uri": "https://localhost:8080/"
        },
        "id": "aqpgHHL5oWJR",
        "outputId": "7f2c3c50-b5d9-47e9-a289-f46ea2af793a"
      },
      "id": "aqpgHHL5oWJR",
      "execution_count": 40,
      "outputs": [
        {
          "output_type": "stream",
          "name": "stdout",
          "text": [
            "Best selling product is: Laptop total amount is 300000\n"
          ]
        }
      ]
    },
    {
      "cell_type": "code",
      "source": [
        "result = df.groupby('Category')['Total'].sum()\n",
        "print(result)"
      ],
      "metadata": {
        "id": "LD2zV64brYKl"
      },
      "id": "LD2zV64brYKl",
      "execution_count": null,
      "outputs": []
    },
    {
      "cell_type": "code",
      "source": [
        "df['Date'] = pd.to_datetime(df['Date'])\n",
        "df['Month'] = df['Date'].dt.month\n",
        "result=df.groupby('Month')['Total'].sum()\n",
        "print(result)\n"
      ],
      "metadata": {
        "id": "RuoG5nDQrqvS"
      },
      "id": "RuoG5nDQrqvS",
      "execution_count": null,
      "outputs": []
    },
    {
      "cell_type": "code",
      "source": [
        "result = df.nlargest(3,'Total')\n",
        "print(result)"
      ],
      "metadata": {
        "id": "ZWaq1USjvShA"
      },
      "id": "ZWaq1USjvShA",
      "execution_count": null,
      "outputs": []
    },
    {
      "cell_type": "code",
      "source": [
        "result = df.groupby('Product')['Total'].mean()\n",
        "print(result)"
      ],
      "metadata": {
        "id": "KSYzXrt2w92n"
      },
      "id": "KSYzXrt2w92n",
      "execution_count": null,
      "outputs": []
    },
    {
      "cell_type": "code",
      "source": [
        "result = df.groupby('Region')['Total'].sum()\n",
        "a=result.idxmax()\n",
        "revenue = result.max()\n",
        "print(\"top region:\",a)\n",
        "print(\"Revenue:\",revenue)"
      ],
      "metadata": {
        "id": "u5ESmdAb2lhk"
      },
      "id": "u5ESmdAb2lhk",
      "execution_count": null,
      "outputs": []
    },
    {
      "cell_type": "code",
      "source": [
        "result =df.groupby('Product')['Product'].count()\n",
        "print(result)"
      ],
      "metadata": {
        "id": "du6rRvCc4APK"
      },
      "id": "du6rRvCc4APK",
      "execution_count": null,
      "outputs": []
    },
    {
      "cell_type": "code",
      "source": [
        "result =df.groupby('Category')['Quantity'].sum()\n",
        "a=result.idxmax()\n",
        "print(a)"
      ],
      "metadata": {
        "id": "J_ZpqBaV8H7h"
      },
      "id": "J_ZpqBaV8H7h",
      "execution_count": null,
      "outputs": []
    },
    {
      "cell_type": "code",
      "source": [
        "df['Days']=df['Date'].dt.day\n",
        "result = (df.groupby('Days')['Total'].sum()).idxmax()\n",
        "print(result)"
      ],
      "metadata": {
        "colab": {
          "base_uri": "https://localhost:8080/"
        },
        "id": "7PQDSM5T8faz",
        "outputId": "fbdec32c-8e96-4d3b-ec55-a75da729bcec"
      },
      "id": "7PQDSM5T8faz",
      "execution_count": 81,
      "outputs": [
        {
          "output_type": "stream",
          "name": "stdout",
          "text": [
            "15\n"
          ]
        }
      ]
    },
    {
      "cell_type": "code",
      "source": [
        "result=df['Total'].agg(['min','max','sum'])\n",
        "print(result)"
      ],
      "metadata": {
        "colab": {
          "base_uri": "https://localhost:8080/"
        },
        "id": "RO5vPhdf95J2",
        "outputId": "f816d337-d783-4735-8f9b-3bc006438d07"
      },
      "id": "RO5vPhdf95J2",
      "execution_count": 86,
      "outputs": [
        {
          "output_type": "stream",
          "name": "stdout",
          "text": [
            "min      9000\n",
            "max    150000\n",
            "sum    835500\n",
            "Name: Total, dtype: int64\n"
          ]
        }
      ]
    },
    {
      "cell_type": "code",
      "source": [
        "highest_avg_price_product = df.groupby('Product')['Price'].mean().idxmax()\n",
        "print(highest_avg_price_product)\n"
      ],
      "metadata": {
        "colab": {
          "base_uri": "https://localhost:8080/"
        },
        "id": "CFMI8UER-683",
        "outputId": "5d52f0d0-8e1e-41e4-cae5-cba8fc1cf8ec"
      },
      "id": "CFMI8UER-683",
      "execution_count": 97,
      "outputs": [
        {
          "output_type": "stream",
          "name": "stdout",
          "text": [
            "Laptop\n"
          ]
        }
      ]
    },
    {
      "cell_type": "code",
      "source": [
        "total_electronics_qty = df[df['Category'] == 'Electronics']['Quantity'].sum()\n",
        "print(total_electronics_qty)\n"
      ],
      "metadata": {
        "colab": {
          "base_uri": "https://localhost:8080/"
        },
        "id": "-kAvfNxxBSUk",
        "outputId": "4d54e0f7-a0d8-4110-ae58-4b90a12d833e"
      },
      "id": "-kAvfNxxBSUk",
      "execution_count": 103,
      "outputs": [
        {
          "output_type": "stream",
          "name": "stdout",
          "text": [
            "36\n"
          ]
        }
      ]
    },
    {
      "cell_type": "code",
      "source": [
        "total = df['Total'].sum()\n",
        "print(total)\n",
        "per_region =df.groupby('Region')['Total'].sum()\n",
        "print(per_region)\n",
        "a=per_region/total * 100\n",
        "print(\"Average per region\",a)"
      ],
      "metadata": {
        "id": "NjlZ3MArCD90"
      },
      "id": "NjlZ3MArCD90",
      "execution_count": null,
      "outputs": []
    },
    {
      "cell_type": "code",
      "source": [
        "df_sorted = df.sort_values('Date')\n",
        "df_sorted['Cumulative_Sales'] = df_sorted['Total'].cumsum()\n",
        "print(df_sorted[['Date', 'Cumulative_Sales']])"
      ],
      "metadata": {
        "id": "d4RnKvuzD_i0"
      },
      "id": "d4RnKvuzD_i0",
      "execution_count": null,
      "outputs": []
    },
    {
      "cell_type": "code",
      "source": [
        "top_products = df.groupby('Category').apply(lambda x: x.groupby('Product')['Total'].sum().nlargest(2))\n",
        "print(top_products)\n",
        "\n"
      ],
      "metadata": {
        "id": "MJJVrN6lNlB0"
      },
      "id": "MJJVrN6lNlB0",
      "execution_count": null,
      "outputs": []
    },
    {
      "cell_type": "code",
      "source": [
        "monthly_sales = df.groupby('Month')['Total'].sum()\n",
        "mom_growth = monthly_sales.pct_change() * 100\n",
        "print(mom_growth)\n"
      ],
      "metadata": {
        "id": "Hb9VxdadRkc1"
      },
      "id": "Hb9VxdadRkc1",
      "execution_count": null,
      "outputs": []
    },
    {
      "cell_type": "code",
      "source": [
        "least_sold_product = df.groupby('Region').apply(lambda x: x.groupby('Product')['Quantity'].sum().idxmin())\n",
        "print(least_sold_product)\n"
      ],
      "metadata": {
        "colab": {
          "base_uri": "https://localhost:8080/"
        },
        "id": "PT5bk4nVWb-_",
        "outputId": "26590975-3f80-4a46-c0df-508d19be891b"
      },
      "id": "PT5bk4nVWb-_",
      "execution_count": 136,
      "outputs": [
        {
          "output_type": "stream",
          "name": "stdout",
          "text": [
            "Region\n",
            "East      Watch\n",
            "North    Laptop\n",
            "South     Watch\n",
            "West     Laptop\n",
            "dtype: object\n"
          ]
        },
        {
          "output_type": "stream",
          "name": "stderr",
          "text": [
            "/tmp/ipython-input-3832236971.py:1: DeprecationWarning: DataFrameGroupBy.apply operated on the grouping columns. This behavior is deprecated, and in a future version of pandas the grouping columns will be excluded from the operation. Either pass `include_groups=False` to exclude the groupings or explicitly select the grouping columns after groupby to silence this warning.\n",
            "  least_sold_product = df.groupby('Region').apply(lambda x: x.groupby('Product')['Quantity'].sum().idxmin())\n"
          ]
        }
      ]
    },
    {
      "cell_type": "code",
      "source": [
        "result = df.groupby('Category')['Price'].mean()\n",
        "print(result)"
      ],
      "metadata": {
        "colab": {
          "base_uri": "https://localhost:8080/"
        },
        "id": "_JZHTF0bYLu1",
        "outputId": "0037742d-7c13-4fe7-aa0b-23ca1af53aab"
      },
      "id": "_JZHTF0bYLu1",
      "execution_count": 143,
      "outputs": [
        {
          "output_type": "stream",
          "name": "stdout",
          "text": [
            "Category\n",
            "Electronics    27181.818182\n",
            "Fashion         2833.333333\n",
            "Name: Price, dtype: float64\n"
          ]
        }
      ]
    },
    {
      "cell_type": "code",
      "source": [
        "electronics = df[df['Category'] == 'Electronics']\n",
        "top_region_electronics = electronics.groupby('Region')['Total'].sum().idxmax()\n",
        "print(top_region_electronics)\n"
      ],
      "metadata": {
        "colab": {
          "base_uri": "https://localhost:8080/"
        },
        "id": "fjG1CZwiYrqX",
        "outputId": "f2601329-b04a-4c02-e826-1ea2d96583f8"
      },
      "id": "fjG1CZwiYrqX",
      "execution_count": 147,
      "outputs": [
        {
          "output_type": "stream",
          "name": "stdout",
          "text": [
            "North\n"
          ]
        }
      ]
    },
    {
      "cell_type": "code",
      "source": [
        "aov=df['Total'].mean()\n",
        "revenue_above_aov = df[df['Total']>aov]['Total'].sum()\n",
        "print(revenue_above_aov)"
      ],
      "metadata": {
        "colab": {
          "base_uri": "https://localhost:8080/"
        },
        "id": "5iqm5xnLZ1SA",
        "outputId": "2ffe18aa-4df9-440e-9e78-212b14f41dc7"
      },
      "id": "5iqm5xnLZ1SA",
      "execution_count": 11,
      "outputs": [
        {
          "output_type": "stream",
          "name": "stdout",
          "text": [
            "620000\n"
          ]
        }
      ]
    },
    {
      "cell_type": "code",
      "source": [
        "trend = df.groupby([df['Date'], 'Category'])['Total'].sum().unstack()\n",
        "print(trend)\n"
      ],
      "metadata": {
        "id": "HAcSLoh-C923"
      },
      "id": "HAcSLoh-C923",
      "execution_count": null,
      "outputs": []
    },
    {
      "cell_type": "code",
      "source": [
        "result = df.groupby('Date')['Total'].sum().sort_values(ascending=False).head(5)\n",
        "print(result)"
      ],
      "metadata": {
        "id": "q45ANo1ZDpwJ"
      },
      "id": "q45ANo1ZDpwJ",
      "execution_count": null,
      "outputs": []
    },
    {
      "cell_type": "code",
      "source": [
        "# Total revenue of Electronics\n",
        "electronics_revenue = df[df['Category'] == 'Electronics']['Total'].sum()\n",
        "\n",
        "# Total revenue of Fashion\n",
        "fashion_revenue = df[df['Category'] == 'Fashion']['Total'].sum()\n",
        "\n",
        "# Overall revenue\n",
        "total_revenue = df['Total'].sum()\n",
        "\n",
        "# Calculate percentage shares\n",
        "electronics_share = (electronics_revenue / total_revenue) * 100\n",
        "fashion_share = (fashion_revenue / total_revenue) * 100\n",
        "\n",
        "print(\"Electronics Revenue Share: {:.2f}%\".format(electronics_share))\n",
        "print(\"Fashion Revenue Share: {:.2f}%\".format(fashion_share))\n"
      ],
      "metadata": {
        "id": "twsv9VX_FTnG"
      },
      "id": "twsv9VX_FTnG",
      "execution_count": null,
      "outputs": []
    },
    {
      "cell_type": "code",
      "source": [
        "product_summary = df.groupby('Product').agg({'Total': 'sum', 'Quantity': 'sum'})\n",
        "highest_quantity_product = product_summary['Quantity'].idxmax()\n",
        "lowest_revenue_product = product_summary['Total'].idxmin()\n",
        "\n",
        "print(\"Product with highest quantity sold:\", highest_quantity_product)\n",
        "print(\"Product with lowest revenue:\", lowest_revenue_product)"
      ],
      "metadata": {
        "colab": {
          "base_uri": "https://localhost:8080/"
        },
        "id": "EGvsi5vUH7Q-",
        "outputId": "b39bec53-0925-48ae-a6b6-8dd4b40b61ba"
      },
      "id": "EGvsi5vUH7Q-",
      "execution_count": 38,
      "outputs": [
        {
          "output_type": "stream",
          "name": "stdout",
          "text": [
            "Product with highest quantity sold: Shoes\n",
            "Product with lowest revenue: Shirt\n"
          ]
        }
      ]
    },
    {
      "cell_type": "code",
      "source": [
        "pivot = pd.pivot_table(df, values='Total', index='Region', columns='Category', aggfunc='sum', fill_value=0)\n",
        "\n",
        "print(pivot)"
      ],
      "metadata": {
        "id": "vjtomYuiLgyN"
      },
      "id": "vjtomYuiLgyN",
      "execution_count": null,
      "outputs": []
    },
    {
      "cell_type": "code",
      "source": [
        "result=df.groupby('Region')['Total'].mean()\n",
        "print(result)"
      ],
      "metadata": {
        "colab": {
          "base_uri": "https://localhost:8080/",
          "height": 158
        },
        "id": "IONkk9G-N2eU",
        "outputId": "a4f0aeb1-b365-409d-eed4-046ae0b8e7bb"
      },
      "id": "IONkk9G-N2eU",
      "execution_count": 2,
      "outputs": [
        {
          "output_type": "error",
          "ename": "NameError",
          "evalue": "name 'df' is not defined",
          "traceback": [
            "\u001b[0;31m---------------------------------------------------------------------------\u001b[0m",
            "\u001b[0;31mNameError\u001b[0m                                 Traceback (most recent call last)",
            "\u001b[0;32m/tmp/ipython-input-273274207.py\u001b[0m in \u001b[0;36m<cell line: 0>\u001b[0;34m()\u001b[0m\n\u001b[0;32m----> 1\u001b[0;31m \u001b[0mresult\u001b[0m\u001b[0;34m=\u001b[0m\u001b[0mdf\u001b[0m\u001b[0;34m.\u001b[0m\u001b[0mgroupby\u001b[0m\u001b[0;34m(\u001b[0m\u001b[0;34m'Region'\u001b[0m\u001b[0;34m)\u001b[0m\u001b[0;34m[\u001b[0m\u001b[0;34m'Total'\u001b[0m\u001b[0;34m]\u001b[0m\u001b[0;34m.\u001b[0m\u001b[0mmean\u001b[0m\u001b[0;34m(\u001b[0m\u001b[0;34m)\u001b[0m\u001b[0;34m\u001b[0m\u001b[0;34m\u001b[0m\u001b[0m\n\u001b[0m\u001b[1;32m      2\u001b[0m \u001b[0mprint\u001b[0m\u001b[0;34m(\u001b[0m\u001b[0mresult\u001b[0m\u001b[0;34m)\u001b[0m\u001b[0;34m\u001b[0m\u001b[0;34m\u001b[0m\u001b[0m\n",
            "\u001b[0;31mNameError\u001b[0m: name 'df' is not defined"
          ]
        }
      ]
    },
    {
      "cell_type": "code",
      "source": [
        "repeat_products = df['Product'].value_counts()\n",
        "repeat_products = repeat_products[repeat_products > 1]\n",
        "\n",
        "print(\"✅ Repeat products (sold in more than one order):\")\n",
        "print(repeat_products)"
      ],
      "metadata": {
        "id": "d8hlKHucOh9A"
      },
      "id": "d8hlKHucOh9A",
      "execution_count": null,
      "outputs": []
    }
  ],
  "metadata": {
    "kernelspec": {
      "display_name": "Python 3",
      "name": "python3"
    },
    "language_info": {
      "name": "python"
    },
    "required_libs": [],
    "colab": {
      "provenance": [],
      "include_colab_link": true
    }
  },
  "nbformat": 4,
  "nbformat_minor": 5
}